{
 "cells": [
  {
   "cell_type": "markdown",
   "metadata": {},
   "source": [
    "# My Plan"
   ]
  },
  {
   "cell_type": "markdown",
   "metadata": {},
   "source": [
    "1- During data munging, I remove outlier (only TOTAL removed) and remove missing data (Removed data that did not have financial data). I removed all data that did not have 'salary' information. Rationale for doing so was that a classifer algorithm can identify missing data as a feature itself. As the number of POIs with missing data was minimal (i think 1), I thought it was ok to remove data without financial information. Also if you dont remove financial data, and impute missing values by 0, You will get an algorithm that has high precision, because of all the people in missing data, only 1 person is POI, rest are non-POIs. Do not impute median for missing data. This is not a good strategy for this data set. Reasons below, \n",
    "\n",
    "1.1- Many employees dont get additional financial incentives like bonus, restricted stock etc, so its not good to put median values for those people, its better to imput 0. Mainly because a lower level employee may actually be getting 0 additional incentives, and that data may not have been included in the data set.\n",
    "\n",
    "1.2- About 60 data points have email features alone, and do not have financial data. I removed them completely. But putting median values for them may not be correct representation of data. For people with missing financial features, only 1 or 2 are POIs, so including or removing them, only increases or decreases precision and doesn't affect the overall approach in anyway. \n",
    "\n",
    "I only included data that had entries for salary. The ones that did not have salary information had only email features are removed. There was a lesson about choosing data from different sources, so I excluded ones with email completely, to avoid issues due to data from different sources.\n",
    "\n",
    "2- Applied log(1+data) to financial information, to get more 'normal' distribution. I computed ratios for email features and added two new email radio features. \n",
    "\n",
    "3- Did PCA on financial features and selected 3 best. (PCA on training data only). (3- obtained using grid search CV)\n",
    "\n",
    "3.1- Do not take PCAs on combined financial and email data. This is troublesome due to a lot of missing data, futher a hybrid email and financial data is tough to visualize for me, so I kept them separate. \n",
    "\n",
    "3.2- I chose 3 PCA components, because they explained 70% of variance in data for the features. 3-4 principal components may be sufficient to capture most of the variance in the data.\n",
    "\n",
    "3.3- Do not select \"total_payments\" and \"total_stock_incentives\", because they are perfectly correlated with other features. \n",
    "\n",
    "4- The default 0.3 split from sklearn's cross validation function is used. In general smaller test_size implies overfitting. However, we are repeating this for all data points, so we are in a way using all the data. Further, in cases like this where the number of samples is low, using lower split actually avoids overfitting. Because in modeling, we are predicting only 1 data point, so the model has to be general enough to predict that 1 data sample that wasn't included in the original modeling. This is one of the reasons why when having test size of 0.3, we have high scores.\n",
    "\n",
    "5- Applied gridsearchCV with custom scoring function and DecisionTree classifier. (I varied criterion and splitter). I do not use F1 score. Instead, I create my own scoring function. My scoring function was to maximize the minimum of precision and recall. This helped improve the performance significantly. F1 score is harmonic mean of precision and recall, so it tries to balance the two. It doesn't maximize either, but tries to keep both high and equal to one another. F1 = 2/(1/recall + 1/precision). I use make_scorer in sklearn to make custom scoring function.\n",
    "\n",
    "6- For cross-validation I used the same tester function as that in tester.py. Sklearn's cross validation function uses the default 0.3 split. About using smaller test size, in general smaller test_size implies overfitting. However, we can repeat this for all data points, so we are in a way using all the data. Further, in cases like this where the number of samples is low, using lower split actually avoids overfitting. Because in modeling, we are predicting only 1 data point, so the model has to be general enough to predict that 1 data sample that wasn't included in the original modeling. This is one of the reasons why when we have test size of 0.3, you have high scores. \"precision_recall\" is a function I wrote to calculate precision and recall. It returns precision and recall from precitions and actual value. I thinkm, due to large difference in number of POIs and non-POIs,  18 pois in 150 people, when test_size is 0.1, we are predicting 2 or 1 POIs among 15, with test_sizxe is 0.3, we have 3 to 6 POIs in testing set. So even we only get 2 of them right, we have precision and recall above 0.3. So the scores appear artifitally high for a poorer model, like grade inflation. With 0.1, the model has to be generalize well to predict 1 data point, and any error is amplified. Regardless, it makes more sense to use 0.1 for test_size in gridsearchCV because thats what is used in tester.py. Also, the parameters of model are calculated based on CV object provided to gridsearchCV, so the parameters that give best score for 0.1 test size may be different from those for 0.3\n",
    "\n",
    "Here is what I do:\n",
    "6.1- We first divide the data set into a training and testing set of, say, 70%-30%.\n",
    "\n",
    "6.2- On the 70% of the data that is put in the training set we then run the grid_search to train the model using the StratifiedShuffleSplit. Within the 'sss' the data is again randomly divided into 90-10 percent training-test sets for 1000 iterations, each iteration trains a model on 90% of the training set and tests on 10% of the original training set.\n",
    "\n",
    "6.3- Then, the model with the parameters that have performed best on average, is used to generate predictions on the the 30% of the original data set that was set aside for testing. The predictions of that model are then compared to the actual values of the dependent variable to score the final model.\n"
   ]
  },
  {
   "cell_type": "code",
   "execution_count": 31,
   "metadata": {
    "collapsed": false
   },
   "outputs": [],
   "source": [
    "%matplotlib inline\n",
    "\n",
    "import sys\n",
    "import pickle\n",
    "import pprint\n",
    "import math\n",
    "import matplotlib.pyplot\n",
    "import os\n",
    "import threading\n",
    "import time\n",
    "import datetime\n",
    "sys.path.append(\"../ud120-projects/tools/\")\n",
    "sys.path.append(\"../ud120-projects/final_project/\")\n",
    "\n",
    "from sklearn.cross_validation import train_test_split\n",
    "from sklearn.decomposition import RandomizedPCA\n",
    "from sklearn.metrics import make_scorer\n",
    "from sklearn.pipeline import Pipeline\n",
    "from sklearn.tree import DecisionTreeClassifier\n",
    "from sklearn.ensemble import RandomForestClassifier\n",
    "from sklearn.svm import SVC\n",
    "from sklearn.grid_search import GridSearchCV\n",
    "from sklearn.metrics import recall_score\n",
    "from sklearn.metrics import precision_score\n",
    "from feature_format import featureFormat, targetFeatureSplit\n",
    "from tester import dump_classifier_and_data\n",
    "from sklearn.cross_validation import StratifiedShuffleSplit\n",
    "from sklearn.cross_validation import train_test_split\n"
   ]
  },
  {
   "cell_type": "markdown",
   "metadata": {},
   "source": [
    "# Task 1: Select what features you'll use."
   ]
  },
  {
   "cell_type": "markdown",
   "metadata": {},
   "source": [
    "features_list is a list of strings, each of which is a feature name.\n",
    "The first feature must be \"poi\"."
   ]
  },
  {
   "cell_type": "code",
   "execution_count": 32,
   "metadata": {
    "collapsed": false
   },
   "outputs": [
    {
     "data": {
      "text/plain": [
       "['poi', 'salary', 'bonus']"
      ]
     },
     "execution_count": 32,
     "metadata": {},
     "output_type": "execute_result"
    }
   ],
   "source": [
    "features_list = ['poi','salary', 'bonus']\n",
    "features_list"
   ]
  },
  {
   "cell_type": "markdown",
   "metadata": {},
   "source": [
    "Load the dictionary containing the dataset"
   ]
  },
  {
   "cell_type": "code",
   "execution_count": 33,
   "metadata": {
    "collapsed": false
   },
   "outputs": [],
   "source": [
    "with open(\"../ud120-projects/final_project/final_project_dataset.pkl\", \"r\") as data_file:\n",
    "    data_dict = pickle.load(data_file)\n",
    "\n",
    "pp = pprint.PrettyPrinter(indent=4)\n",
    "#pp.pprint(data_dict)"
   ]
  },
  {
   "cell_type": "code",
   "execution_count": 34,
   "metadata": {
    "collapsed": false
   },
   "outputs": [
    {
     "name": "stdout",
     "output_type": "stream",
     "text": [
      "Total number of data points:  146\n",
      "Total number of POI:  18  Percentage of POI:  12.33 %\n",
      "Total number of non-POI:  128  Percentage of non-POI:  87.67 %\n"
     ]
    }
   ],
   "source": [
    "total_number = len(data_dict)\n",
    "total_poi_number = sum( x['poi'] == True for x in data_dict.values() )\n",
    "print \"Total number of data points: \", total_number\n",
    "print \"Total number of POI: \", total_poi_number, \" Percentage of POI: \", \\\n",
    "       round(total_poi_number / (1.0 * total_number), 4) * 100, \"%\"\n",
    "print \"Total number of non-POI: \", total_number - total_poi_number, \\\n",
    "       \" Percentage of non-POI: \", (1 - round(total_poi_number / (1.0 * total_number), 4))* 100, \"%\""
   ]
  },
  {
   "cell_type": "code",
   "execution_count": 35,
   "metadata": {
    "collapsed": false
   },
   "outputs": [
    {
     "name": "stdout",
     "output_type": "stream",
     "text": [
      "Total number of missing values for feature ' total_payments ' is:  21\n",
      "Total number of missing values for feature ' total_stock_value ' is:  20\n"
     ]
    }
   ],
   "source": [
    "my_chosen_feature_list = ['total_payments', 'total_stock_value']\n",
    "for i in my_chosen_feature_list:\n",
    "    print \"Total number of missing values for feature '\", i, \"' is: \", \\\n",
    "    sum( x[i] == \"NaN\" for x in data_dict.values() )\n",
    "    "
   ]
  },
  {
   "cell_type": "markdown",
   "metadata": {},
   "source": [
    "# Task 2: Remove outliers"
   ]
  },
  {
   "cell_type": "markdown",
   "metadata": {},
   "source": [
    "## Step #1"
   ]
  },
  {
   "cell_type": "markdown",
   "metadata": {},
   "source": [
    "Here I will at first remove all data that did not have 'salary' information. In other words, I will remove the person whose 'salary' is 'NaN'."
   ]
  },
  {
   "cell_type": "code",
   "execution_count": 36,
   "metadata": {
    "collapsed": false
   },
   "outputs": [
    {
     "data": {
      "text/plain": [
       "146"
      ]
     },
     "execution_count": 36,
     "metadata": {},
     "output_type": "execute_result"
    }
   ],
   "source": [
    "len(data_dict)"
   ]
  },
  {
   "cell_type": "code",
   "execution_count": 37,
   "metadata": {
    "collapsed": false
   },
   "outputs": [
    {
     "data": {
      "text/plain": [
       "95"
      ]
     },
     "execution_count": 37,
     "metadata": {},
     "output_type": "execute_result"
    }
   ],
   "source": [
    "data_dict_no_NaN = {name:data_dict[name] for name in data_dict if data_dict[name][\"salary\"] != \"NaN\"}\n",
    "len(data_dict_no_NaN)"
   ]
  },
  {
   "cell_type": "code",
   "execution_count": 38,
   "metadata": {
    "collapsed": false
   },
   "outputs": [],
   "source": [
    "#data_dict_no_NaN"
   ]
  },
  {
   "cell_type": "markdown",
   "metadata": {},
   "source": [
    "## Step #2"
   ]
  },
  {
   "cell_type": "markdown",
   "metadata": {},
   "source": [
    "A new function draw_scatterplot() is created here to draw the scatter plot for the data. This visualizes where the outliers are."
   ]
  },
  {
   "cell_type": "code",
   "execution_count": 39,
   "metadata": {
    "collapsed": true
   },
   "outputs": [],
   "source": [
    "# Red dots in the scatter plot are POI's \n",
    "# Blue dots are not POI's\n",
    "def draw_scatterplot(featurelist, datadict):\n",
    "    data = featureFormat(datadict, featurelist)\n",
    "    for point in data:\n",
    "        if point[0] != 0:\n",
    "            color = 'red'\n",
    "        else:\n",
    "            color = 'blue'\n",
    "        matplotlib.pyplot.scatter( point[1], point[2], color = color)\n",
    "    matplotlib.pyplot.xlabel( featurelist[1] )\n",
    "    matplotlib.pyplot.ylabel( featurelist[2] )\n",
    "    matplotlib.pyplot.show()"
   ]
  },
  {
   "cell_type": "markdown",
   "metadata": {},
   "source": [
    "Draw the scatter plot for all data. Let us see the outliers. I am using 'salary' and 'bonus' as the features to study. As I mentioned in the code above, the red dots in the scatter plot are POI's, and the blue dots in the scatter plot are non-POI's"
   ]
  },
  {
   "cell_type": "code",
   "execution_count": 40,
   "metadata": {
    "collapsed": false
   },
   "outputs": [
    {
     "data": {
      "image/png": "[encoded data removed]",
      "text/plain": [
       "<matplotlib.figure.Figure at 0x9f4bdd8>"
      ]
     },
     "metadata": {},
     "output_type": "display_data"
    }
   ],
   "source": [
    "features_list = ['poi','salary', 'bonus']\n",
    "draw_scatterplot(features_list, data_dict_no_NaN)"
   ]
  },
  {
   "cell_type": "markdown",
   "metadata": {},
   "source": [
    "In the scatter plot above, a blue dot is found with much bigger bonus and salary. Now I need to find out who this is."
   ]
  },
  {
   "cell_type": "markdown",
   "metadata": {},
   "source": [
    "Define the function Remove_Max_Outlier() to remove the outliers from the dataset."
   ]
  },
  {
   "cell_type": "code",
   "execution_count": 41,
   "metadata": {
    "collapsed": true
   },
   "outputs": [],
   "source": [
    "def Remove_Max_Outlier(datadict, feature):\n",
    "    v=list(k[feature] for k in datadict.values())\n",
    "    k=list(datadict.keys())\n",
    "    name = k[v.index(max(v))]\n",
    "    print name\n",
    "    print datadict[name][feature]\n",
    "\n",
    "    del datadict[name]\n",
    "    return datadict"
   ]
  },
  {
   "cell_type": "markdown",
   "metadata": {},
   "source": [
    "Now run this function to remove the outlier. It also print out some information about this outlier."
   ]
  },
  {
   "cell_type": "code",
   "execution_count": 42,
   "metadata": {
    "collapsed": false
   },
   "outputs": [
    {
     "name": "stdout",
     "output_type": "stream",
     "text": [
      "TOTAL\n",
      "309886585\n"
     ]
    }
   ],
   "source": [
    "data_dict_no_Outlier = Remove_Max_Outlier(data_dict_no_NaN, \"total_payments\")\n",
    "#data_dict_no_Outlier"
   ]
  },
  {
   "cell_type": "markdown",
   "metadata": {},
   "source": [
    "Draw a scatter plot to see which outliers are removed. As I mentioned before, the red dots are POI's. the blue dots are non-POI's."
   ]
  },
  {
   "cell_type": "code",
   "execution_count": 43,
   "metadata": {
    "collapsed": false
   },
   "outputs": [
    {
     "data": {
      "image/png": "[encoded data removed]",
      "text/plain": [
       "<matplotlib.figure.Figure at 0x9f4b860>"
      ]
     },
     "metadata": {},
     "output_type": "display_data"
    }
   ],
   "source": [
    "draw_scatterplot(features_list, data_dict_no_Outlier)"
   ]
  },
  {
   "cell_type": "markdown",
   "metadata": {},
   "source": [
    "# Task 3: Change the value of data to get more normal distribution"
   ]
  },
  {
   "cell_type": "markdown",
   "metadata": {},
   "source": [
    "## Step #1, Apply log (1+data) to financial features in the dataset"
   ]
  },
  {
   "cell_type": "markdown",
   "metadata": {},
   "source": [
    "Applied log(1+data) to financial information, and to email information to get more 'normal' distribution. I computed ratios and log-transformed them for email features, and took log of financial data. "
   ]
  },
  {
   "cell_type": "markdown",
   "metadata": {},
   "source": [
    "Now I need to set all data to be zero, if it is NaN. To do this, I define a function NaN_to_Zero()."
   ]
  },
  {
   "cell_type": "code",
   "execution_count": 44,
   "metadata": {
    "collapsed": true
   },
   "outputs": [],
   "source": [
    "def NaN_to_Zero(featurelist, datadict):\n",
    "    for key, value in datadict.items():\n",
    "        for i in featurelist:\n",
    "            if type(value[i]) is float and math.isnan(value[i]) or type(value[i]) is str and value[i] == \"NaN\" :\n",
    "                datadict[key][i] = 0\n",
    "    return datadict"
   ]
  },
  {
   "cell_type": "markdown",
   "metadata": {},
   "source": [
    "Now I call this function to change any \"NaN\" value in the data_dict_no_Outlier to zero for the listed features. Feature 'deferred_income' and 'restricted_stock_deferred' are not taken into consideration because it has negative values, and we not able to apply log calculation on it."
   ]
  },
  {
   "cell_type": "code",
   "execution_count": 45,
   "metadata": {
    "collapsed": false
   },
   "outputs": [],
   "source": [
    "features_list = ['bonus', 'deferral_payments', 'director_fees', 'exercised_stock_options', \\\n",
    "                 'expenses', 'loan_advances', 'long_term_incentive', 'other', 'restricted_stock', \\\n",
    "                 'salary', 'total_payments', 'total_stock_value']\n",
    "data_dict_no_NaN2 = NaN_to_Zero(features_list, data_dict_no_Outlier)\n",
    "#data_dict_no_NaN2"
   ]
  },
  {
   "cell_type": "code",
   "execution_count": 46,
   "metadata": {
    "collapsed": false
   },
   "outputs": [],
   "source": [
    "for name in data_dict_no_NaN2:\n",
    "    data_point = data_dict_no_NaN2[name]\n",
    "    for i in features_list:\n",
    "        data_point[i] = math.log(float(data_point[i]) + 1.0)\n",
    "#data_dict_no_NaN2"
   ]
  },
  {
   "cell_type": "markdown",
   "metadata": {},
   "source": [
    "## Step #2, Calculate ratios to create the new email features"
   ]
  },
  {
   "cell_type": "markdown",
   "metadata": {},
   "source": [
    "Here I will create two new email features \"fraction_from_poi\" and \"fraction_to_poi\". As you may know, feature \"fraction_from_poi\" is the result of feature \"from_this_person_to_poi\" divided by feature \"from_messages\". And feature \"fraction_to_poi\" is the result of feature \"from_poi_to_this_person\" divided by feature \"to_messages\"."
   ]
  },
  {
   "cell_type": "markdown",
   "metadata": {},
   "source": [
    "Here I define the function computeFraction() to do the calculation:"
   ]
  },
  {
   "cell_type": "code",
   "execution_count": 47,
   "metadata": {
    "collapsed": true
   },
   "outputs": [],
   "source": [
    "def computeFraction( poi_messages, all_messages ):\n",
    "    \"\"\" given a number messages to/from POI (numerator) \n",
    "        and number of all messages to/from a person (denominator),\n",
    "        return the fraction of messages to/from that person\n",
    "        that are from/to a POI\n",
    "   \"\"\"\n",
    "    ### this function returns either\n",
    "    ###     the fraction of all messages to this person that come from POIs\n",
    "    ###     or\n",
    "    ###     the fraction of all messages from this person that are sent to POIs\n",
    "    ### the same code can be used to compute either quantity\n",
    "\n",
    "    ### beware of \"NaN\" when there is no known email address (and so\n",
    "    ### no filled email features), and integer division!\n",
    "    ### in case of poi_messages or all_messages having \"NaN\" value, return 0.\n",
    "    fraction = 0.\n",
    "    if poi_messages == \"NaN\" or all_messages == \"NaN\" or all_messages == 0:\n",
    "        return fraction\n",
    "    fraction = 1.0 * poi_messages / all_messages\n",
    "    return fraction"
   ]
  },
  {
   "cell_type": "markdown",
   "metadata": {},
   "source": [
    "Add the two new features \"fraction_from_poi\" and \"fraction_to_poi\"."
   ]
  },
  {
   "cell_type": "code",
   "execution_count": 48,
   "metadata": {
    "collapsed": true
   },
   "outputs": [],
   "source": [
    "for name in data_dict_no_NaN2:\n",
    "\n",
    "    data_point = data_dict_no_NaN2[name]\n",
    "\n",
    "    from_poi_to_this_person = data_point[\"from_poi_to_this_person\"]\n",
    "    to_messages = data_point[\"to_messages\"]\n",
    "    fraction_from_poi = computeFraction( from_poi_to_this_person, to_messages )\n",
    "    data_point[\"fraction_from_poi\"] = fraction_from_poi\n",
    "\n",
    "    from_this_person_to_poi = data_point[\"from_this_person_to_poi\"]\n",
    "    from_messages = data_point[\"from_messages\"]\n",
    "    fraction_to_poi = computeFraction( from_this_person_to_poi, from_messages )\n",
    "    data_point[\"fraction_to_poi\"] = fraction_to_poi\n",
    "    "
   ]
  },
  {
   "cell_type": "code",
   "execution_count": 49,
   "metadata": {
    "collapsed": false
   },
   "outputs": [],
   "source": [
    "#data_dict_no_NaN2"
   ]
  },
  {
   "cell_type": "markdown",
   "metadata": {},
   "source": [
    "Here let us look at the scatter plot from the two new features."
   ]
  },
  {
   "cell_type": "code",
   "execution_count": 50,
   "metadata": {
    "collapsed": false
   },
   "outputs": [
    {
     "data": {
      "image/png": "[encoded data removed]",
      "text/plain": [
       "<matplotlib.figure.Figure at 0x9f4b208>"
      ]
     },
     "metadata": {},
     "output_type": "display_data"
    }
   ],
   "source": [
    "features_list = ['poi', 'fraction_from_poi', 'fraction_to_poi']\n",
    "\n",
    "draw_scatterplot(features_list, data_dict_no_NaN2)"
   ]
  },
  {
   "cell_type": "markdown",
   "metadata": {},
   "source": [
    "From this scatterplot, we can see that POI stays at an area where fracton_from_poi is in 0 to 0.15, and fraction_to_poi is in 0.1 to 0.7."
   ]
  },
  {
   "cell_type": "markdown",
   "metadata": {},
   "source": [
    "Store to my_dataset for easy export below."
   ]
  },
  {
   "cell_type": "code",
   "execution_count": 51,
   "metadata": {
    "collapsed": true
   },
   "outputs": [],
   "source": [
    "my_dataset = data_dict_no_NaN2"
   ]
  },
  {
   "cell_type": "markdown",
   "metadata": {},
   "source": [
    "# Task 4: Select the Features"
   ]
  },
  {
   "cell_type": "markdown",
   "metadata": {},
   "source": [
    "In the study, I will only select the financial features. And among the financial features some features can not be used. These unused features are:<br/>\n",
    "1, \"Total Payments\" and \"Total Stock Values\". The values of both features are calculated from other financial features.<br/>\n",
    "2, \"Deferred Income\" and \"Restricted Stock Deferred\". The values of both features are negative. It requires some special handling on these negative values. For now I choose to ignore them.<br/>\n",
    "\n",
    "So the features list is:"
   ]
  },
  {
   "cell_type": "code",
   "execution_count": 52,
   "metadata": {
    "collapsed": false
   },
   "outputs": [],
   "source": [
    "features_list = ['poi', 'bonus', 'deferral_payments', 'director_fees', 'exercised_stock_options', \\\n",
    "                 'expenses', 'loan_advances', 'long_term_incentive', 'other', 'restricted_stock', \\\n",
    "                 'salary']"
   ]
  },
  {
   "cell_type": "markdown",
   "metadata": {},
   "source": [
    "Generate the dataset for the selected features above."
   ]
  },
  {
   "cell_type": "code",
   "execution_count": 53,
   "metadata": {
    "collapsed": false
   },
   "outputs": [
    {
     "data": {
      "text/plain": [
       "array([[  0.        ,  15.24462516,  14.86972433, ...,   5.03043792,\n",
       "         11.74425938,  12.21580513],\n",
       "       [  0.        ,   0.        ,   0.        , ...,  13.66993435,\n",
       "         14.37943306,   6.16961073],\n",
       "       [  0.        ,  13.99783295,  14.07459175, ...,  14.79395096,\n",
       "         15.18738013,  12.49538963],\n",
       "       ..., \n",
       "       [  0.        ,  14.91412318,   0.        , ...,  12.61495524,\n",
       "         14.84376404,  13.14288143],\n",
       "       [  0.        ,  13.01700508,   0.        , ...,  13.8975181 ,\n",
       "         16.44358458,  12.66837167],\n",
       "       [  1.        ,   0.        ,   0.        , ...,  11.90463642,\n",
       "         15.0898133 ,  11.97290401]])"
      ]
     },
     "execution_count": 53,
     "metadata": {},
     "output_type": "execute_result"
    }
   ],
   "source": [
    "data = featureFormat(my_dataset, features_list, remove_all_zeroes=False, sort_keys = True)\n",
    "data"
   ]
  },
  {
   "cell_type": "markdown",
   "metadata": {},
   "source": [
    "To select the features, there are two ways:<br/>\n",
    "1, Select the features manually.  I write the code to loop through the features and find which onces are important.<br\\>\n",
    "2, Select the features by calling RandomizedPCA().\n",
    "\n",
    "I tried both. And I choose finaly to select the features manually. I will show the reason later.\n",
    "\n",
    "When doing PCA, I find that I need to select 3 components to preserve most of the variance."
   ]
  },
  {
   "cell_type": "code",
   "execution_count": 54,
   "metadata": {
    "collapsed": false
   },
   "outputs": [
    {
     "name": "stdout",
     "output_type": "stream",
     "text": [
      "pca.explained_variance_ratio_: \n",
      "[ 0.260902    0.22110866  0.17130492]\n",
      "first_pc =  [  6.70524909e-06  -1.34298249e-02  -5.56515854e-02   1.74564542e-18\n",
      "  -9.85834553e-02   1.26412139e-02  -1.13413421e-02  -8.20958521e-02\n",
      "  -2.02554869e-02  -1.48927064e-02  -3.09277097e-03] Length =  11\n",
      "second_pc =  [ -1.80797177e-03  -5.37291522e-02   9.32031081e-02   4.33424848e-18\n",
      "   3.95376707e-02  -1.40579780e-02   5.47763421e-03  -8.75289072e-02\n",
      "  -3.59410639e-02  -4.50521813e-02  -5.89138272e-03] Length =  11\n",
      "third_pc =  [ -5.79782558e-04  -1.33458753e-02   7.75166421e-02   1.96966221e-17\n",
      "  -1.08554428e-01  -6.16175591e-02   9.43177124e-04   8.02385767e-02\n",
      "   2.35635511e-03  -5.70576074e-02  -2.54897298e-03] Length =  11\n"
     ]
    }
   ],
   "source": [
    "pca = RandomizedPCA(n_components=3, whiten=True)\n",
    "pca.fit(data)\n",
    "\n",
    "print \"pca.explained_variance_ratio_: \"\n",
    "print pca.explained_variance_ratio_\n",
    "print \"first_pc = \", pca.components_[0], \"Length = \", len(pca.components_[0])\n",
    "print \"second_pc = \", pca.components_[1], \"Length = \", len(pca.components_[1])\n",
    "print \"third_pc = \", pca.components_[2], \"Length = \", len(pca.components_[2])"
   ]
  },
  {
   "cell_type": "markdown",
   "metadata": {},
   "source": [
    "# Task 5: Select the algorithm"
   ]
  },
  {
   "cell_type": "markdown",
   "metadata": {},
   "source": [
    "I have tried four algorithms: GaussionNB, DecisionTree, RandomForest, and SVC.\n",
    "\n",
    "I will show it later."
   ]
  },
  {
   "cell_type": "markdown",
   "metadata": {},
   "source": [
    "# Task 6: Preparation: Define the custom Scoring function"
   ]
  },
  {
   "cell_type": "markdown",
   "metadata": {},
   "source": [
    "I am going to apply gridsearchCV() with a custom scoring function I define and alogrithm classifier. My scoring function was to maximize the minimum of precision and recall, instead of F1-score. This helps improve the performance significantly. F1 score is harmonic mean of precision and recall, so it tries to balance the two. It doesn't maximize either, but tries to keep both high and equal to one another. F1 = 2/(1/recall + 1/precision). So I do not choose F1-score. Instead, I choose to use the minimum of the precision and recall. I use make_scorer in sklearn to make custom scoring function."
   ]
  },
  {
   "cell_type": "code",
   "execution_count": 55,
   "metadata": {
    "collapsed": true
   },
   "outputs": [],
   "source": [
    "def precision_recall(labels, predictions):\n",
    "    ind_true_pos = [i for i in range(0,len(labels)) if (predictions[i]==1) & (labels[i]==1)]\n",
    "    ind_false_pos = [i for i in range(0,len(labels)) if ((predictions[i]==1) & (labels[i]==0))]\n",
    "    ind_false_neg = [i for i in range(0,len(labels)) if ((predictions[i]==0) & (labels[i]==1))]\n",
    "    ind_true_neg = [i for i in range(0,len(labels)) if ((predictions[i]==0) & (labels[i]==0))]\n",
    "    precision = 0\n",
    "    recall = 0\n",
    "    \n",
    "    ind_labels = [i for i in range(0,len(labels)) if labels[i]==1]\n",
    "    \n",
    "    if len(ind_labels) !=0:\n",
    "        if float( len(ind_true_pos) + len(ind_false_pos))!=0:\n",
    "            precision = float(len(ind_true_pos))/float( len(ind_true_pos) + len(ind_false_pos))\n",
    "        if float( len(ind_true_pos) + len(ind_false_neg))!=0:\n",
    "            recall = float(len(ind_true_pos))/float( len(ind_true_pos) + len(ind_false_neg))\n",
    "        return precision, recall\n",
    "    else:\n",
    "        return -1,-1\n",
    "\n",
    "def custom_scorer(labels, predictions):\n",
    "    precision, recall = precision_recall(labels, predictions)\n",
    "    min_score = min(precision, recall)\n",
    "    return min_score\n",
    "score  = make_scorer(custom_scorer, greater_is_better=True)"
   ]
  },
  {
   "cell_type": "markdown",
   "metadata": {},
   "source": [
    "# Task 7: Preparation: Cross-validation function"
   ]
  },
  {
   "cell_type": "markdown",
   "metadata": {},
   "source": [
    "For cross-validation I used the same tester functions train_test_split() and StratifiedShuffleSplit() as that in tester.py.<br\\>\n",
    "\n",
    "Here is what I am going to do:<br\\>1, we first divide the data set into a training and testing set of, say, 70%-30%.\n",
    "On the 70% of the data that is put in the training set we then run the grid_search to train the model using the StratifiedShuffleSplit.<br\\>2, Within the 'sss', the data is again randomly divided into 90%-10% training-test sets for 1000 iterations. Each iteration trains a model on 90% of the training set and tests on 10% of the original training set.<br\\>\n",
    "3, Then, the model with the parameters that have performed best on average, is then used to generate predictions on the the 30% of the original data set that was set aside for testing.<br\\>4,The predictions of that model are then compared to the actual values of the dependent variable to score the final model.<br\\>\n",
    "\n",
    "sklearn's cross validation function uses the default 0.3 split. But using smaller test_size, in general, implies overfitting. However, you can repeat this for all data points, so you are in a way using all the data. Further, in cases like this where the number of samples is low, using lower split actually avoids overfitting. Because in modeling, you are predicting only 1 data point, so the model has to be general enough to predict that 1 data sample that wasn't included in the original modeling. This is one of the reasons why when you have test size of 0.3, you have high scores.<br\\> This is my reasoning for 0.1 vs 0.3.<br\\>\n",
    "In other words, this is due to large difference in number of POIs and non-POIs. 18 POIs in 150 people. When test_size is 0.1, you are predicting 2 or 1 POIs among 15, where as when it is done with 0.3, you have 3 to 6 POIs in testing set. So even you get 2 of them right, you have precision and recall above 0.3. So the scores appear artifitally high for a poorer model, like grade inflation. With 0.1, the model has to be generalize well to predict 1 data point, and any error is amplified. Regardless, it makes more sense to use 0.1 for test_size in gridsearchCV because that is what is used in tester.py. Also, the parameters of model are calculated based on CV object provided to gridsearchCV, so the parameters that give best score for 0.1 test size may be different from those for 0.3.<br\\>\n",
    "\n",
    "You will see how I call train_test_split() and StratifiedShuffleSplit(), as well as GridSearchCV() later in my code."
   ]
  },
  {
   "cell_type": "markdown",
   "metadata": {},
   "source": [
    "Here I have a output function get_outcomes(). It prints out all important informations from grid_search."
   ]
  },
  {
   "cell_type": "code",
   "execution_count": 56,
   "metadata": {
    "collapsed": true
   },
   "outputs": [],
   "source": [
    "def get_outcomes(gridCV):\n",
    "    '''Gets the print out of all the outcomes from the grid_search. It prints out the \n",
    "    best parameters found by the model and the outcomes of the test of the model on \n",
    "    the test set.'''\n",
    "    print \"Best parameters from the grid search: \", gridCV.best_params_\n",
    "    clf_gridCV = gridCV.best_estimator_\n",
    "    print \"\\nBest Estimator Accuracy:\", clf_gridCV.score(features_test, labels_test)\n",
    "    clf_gridCV_pred = clf_gridCV.predict(features_test)\n",
    "    print \"\\n\\nRecall Score:\", recall_score(labels_test, clf_gridCV_pred)\n",
    "    print \"\\n\\nPrecision Score:\", precision_score(labels_test, clf_gridCV_pred)"
   ]
  },
  {
   "cell_type": "markdown",
   "metadata": {},
   "source": [
    "# Task 8: Code"
   ]
  },
  {
   "cell_type": "markdown",
   "metadata": {},
   "source": [
    "I have tried several different algorithms with one of two ways to select features. I list them here:<br\\>\n",
    "1, PCA + SVC + Pipeline + GridSearchCV<br\\>\n",
    "2, PCA + DecisionTree + Pipeline + GridSearchCV<br\\>\n",
    "3, PCA + RandomForest + Pipeline + GridSearchCV<br\\>\n",
    "4, manually selecting features + DecisionTree + GridSearchCV<br\\>\n",
    "5, manually selecting features + RandomForest + GridSearchCV"
   ]
  },
  {
   "cell_type": "markdown",
   "metadata": {},
   "source": [
    "## Task 8.1: PCA + SVC + Pipeline + GridSearchCV"
   ]
  },
  {
   "cell_type": "markdown",
   "metadata": {},
   "source": [
    "The calculation of this solution takes a very long time. So I have to run one EC2 instance \"r3.8xlarge\" in Amazon Web Service (AWS). This interface have 32 virtual CPUs and 244G memory. It takes about 36 hours to finish the calculation. To fully use the 32 virtual CPUS, I need to change the code to use threads to do the calculation: Run one thread for one set of parameters."
   ]
  },
  {
   "cell_type": "code",
   "execution_count": 58,
   "metadata": {
    "collapsed": false
   },
   "outputs": [],
   "source": [
    "\n",
    "labels, features = targetFeatureSplit(data)\n",
    "\n",
    "features_train, features_test, labels_train, labels_test = train_test_split(features, labels, test_size=0.3, random_state=42)\n",
    "\n",
    "\n",
    "def get_outcomes2(gridCV, file_handle):\n",
    "\n",
    "    '''Gets the print out of all the outcomes from the grid_search. It prints out the \n",
    "    best parameters found by the model and the outcomes of the test of the model on \n",
    "    the test set.'''\n",
    "    \n",
    "    file_handle.write(\"\\n\\nBest parameters from the grid search: \" + str(gridCV.best_params_))\n",
    "    clf_gridCV = gridCV.best_estimator_\n",
    "    file_handle.write(\"\\n\\nBest Estimator Accuracy:\" + str(clf_gridCV.score(features_test, labels_test)))\n",
    "    clf_gridCV_pred = clf_gridCV.predict(features_test)\n",
    "    file_handle.write(\"\\n\\nRecall Score:\" + str(recall_score(labels_test, clf_gridCV_pred)))\n",
    "    file_handle.write(\"\\n\\nPrecision Score:\" + str(precision_score(labels_test, clf_gridCV_pred)))\n",
    "            \n",
    "sss = StratifiedShuffleSplit(labels_train, n_iter=1000, test_size=0.1, random_state=42)                       \n",
    "\n",
    "Pipeline = Pipeline([\n",
    "        ('pca', RandomizedPCA()),\n",
    "        ('clf', SVC(random_state = 42))\n",
    "    ])\n",
    "\n",
    "def worker(xi, di, si, mi):\n",
    "    folder = \"./pipeline_svc_thread_result/test_result_xi_\" + str(xi[0]) + \"_di_\" + str(di[0]) + \"_si_\" + str(si[0]) + \"_mi_\" + str(mi[0]) + \"/\"\n",
    "\n",
    "    dir = os.path.dirname(folder)\n",
    "    if not os.path.exists(dir):\n",
    "        os.makedirs(folder)\n",
    "\n",
    "    f = open(folder + \"result.txt\", \"a+\")\n",
    "\n",
    "    param_grid = {'pca__n_components': xi,\n",
    "              'clf__C': ci,\n",
    "              'clf__gamma': gi,\n",
    "              'clf__kernel': di}\n",
    "\n",
    "    clf = GridSearchCV(estimator = Pipeline, \n",
    "                             param_grid = param_grid,\n",
    "                             scoring = score,\n",
    "                             cv = sss)\n",
    "\n",
    "    f.write(str(clf))\n",
    "\n",
    "    f.write(\"\\n\\nTraining starts at: \" + datetime.datetime.now().strftime('%Y-%m-%d %H:%M:%S'))\n",
    "\n",
    "    clf.fit(features_train, labels_train)\n",
    "    f.write(\"\\n\\nTraining ends at: \" + datetime.datetime.now().strftime('%Y-%m-%d %H:%M:%S'))\n",
    "\n",
    "# print all the outcomes of interest\n",
    "    get_outcomes2(clf, f)\n",
    "    my_features_list = features_list\n",
    "\n",
    "    dump_classifier_and_data(folder, clf, my_dataset, features_list)\n",
    "\n",
    "    f.close()\n",
    "\n",
    "x = [[3]]\n",
    "d = [['rbf'],['linear'], ['poly']]\n",
    "c = [[10], [100], [500]]\n",
    "g = [[0.01], [0.1], [1]]\n",
    "\n",
    "for xi in x:\n",
    "    for di in d:\n",
    "        for ci in c:\n",
    "            for gi in g:\n",
    "                t = threading.Thread(target=worker, args=(xi, di, ci, gi))\n",
    "    t.start()"
   ]
  },
  {
   "cell_type": "markdown",
   "metadata": {},
   "source": [
    "However its result is not good. The value of recall never goes beyond 0.3 for different paramter settings. Its maximum value is 0.2857. The best result is:\n",
    "\n",
    "Training starts at: 2016-08-31 11:10:21\n",
    "\n",
    "Training ends at: 2016-09-01 17:22:27\n",
    "\n",
    "Best parameters from the grid search: {'clf__gamma': 1, 'pca__n_components': 3, 'clf__C': 10, 'clf__kernel': 'poly'}\n",
    "\n",
    "Best Estimator Accuracy:0.793103448276\n",
    "\n",
    "Recall Score:0.285714285714\n",
    "\n",
    "Precision Score:0.66666666666"
   ]
  },
  {
   "cell_type": "markdown",
   "metadata": {},
   "source": [
    "## Task 8.2: PCA + RandomForest + Pipeline + GridSearchCV"
   ]
  },
  {
   "cell_type": "code",
   "execution_count": 59,
   "metadata": {
    "collapsed": false
   },
   "outputs": [
    {
     "ename": "TypeError",
     "evalue": "'Pipeline' object is not callable",
     "output_type": "error",
     "traceback": [
      "\u001b[1;31m---------------------------------------------------------------------------\u001b[0m",
      "\u001b[1;31mTypeError\u001b[0m                                 Traceback (most recent call last)",
      "\u001b[1;32m<ipython-input-59-8f47242483c5>\u001b[0m in \u001b[0;36m<module>\u001b[1;34m()\u001b[0m\n\u001b[0;32m     12\u001b[0m Pipeline = Pipeline([\n\u001b[0;32m     13\u001b[0m         \u001b[1;33m(\u001b[0m\u001b[1;34m'pca'\u001b[0m\u001b[1;33m,\u001b[0m \u001b[0mRandomizedPCA\u001b[0m\u001b[1;33m(\u001b[0m\u001b[1;33m)\u001b[0m\u001b[1;33m)\u001b[0m\u001b[1;33m,\u001b[0m\u001b[1;33m\u001b[0m\u001b[0m\n\u001b[1;32m---> 14\u001b[1;33m         \u001b[1;33m(\u001b[0m\u001b[1;34m'clf'\u001b[0m\u001b[1;33m,\u001b[0m \u001b[0mRandomForestClassifier\u001b[0m\u001b[1;33m(\u001b[0m\u001b[0mrandom_state\u001b[0m \u001b[1;33m=\u001b[0m \u001b[1;36m42\u001b[0m\u001b[1;33m)\u001b[0m\u001b[1;33m)\u001b[0m\u001b[1;33m\u001b[0m\u001b[0m\n\u001b[0m\u001b[0;32m     15\u001b[0m     ])\n\u001b[0;32m     16\u001b[0m \u001b[1;33m\u001b[0m\u001b[0m\n",
      "\u001b[1;31mTypeError\u001b[0m: 'Pipeline' object is not callable"
     ]
    }
   ],
   "source": [
    "labels, features = targetFeatureSplit(data)\n",
    "\n",
    "features_train, features_test, labels_train, labels_test = train_test_split(features, labels, test_size=0.3, random_state=42)\n",
    "            \n",
    "sss = StratifiedShuffleSplit(labels_train, n_iter=1000, test_size=0.1, random_state=42)                       \n",
    "\n",
    "Pipeline = Pipeline([\n",
    "        ('pca', RandomizedPCA()),\n",
    "        ('clf', RandomForestClassifier(random_state = 42))\n",
    "    ])\n",
    "\n",
    "\n",
    "x = [3]\n",
    "#d = ['rbf', 'linear', 'poly', 'sigmoid']\n",
    "\n",
    "d = ['entropy', 'gini']\n",
    "n = [450, 500, 650]\n",
    "#n = [10]\n",
    "s = [1]\n",
    "#s = [10]\n",
    "m = [7, 8, 9]\n",
    "#m = [2]\n",
    "\n",
    "param_grid = {'pca__n_components': x,\n",
    "              'clf__n_estimators': n,\n",
    "              'clf__min_samples_split': s,\n",
    "              'clf__max_depth': m,\n",
    "              'clf__criterion': d}\n",
    "\n",
    "\n",
    "clf = GridSearchCV(estimator = Pipeline, \n",
    "                             param_grid = param_grid,\n",
    "                             scoring = score,\n",
    "                             cv = sss)\n",
    "\n",
    "print clf\n",
    "\n",
    "print len(features_train)\n",
    "print len(labels_train)\n",
    "\n",
    "import time\n",
    "t0 = time.time()\n",
    "print \"Training starts at: \", time.strftime('%Y-%m-%d %H:%M:%S', time.localtime(t0))\n",
    "clf.fit(features_train, labels_train)\n",
    "t1 = time.time()\n",
    "print \"Training ends at: \", time.strftime('%Y-%m-%d %H:%M:%S', time.localtime(t1))\n",
    "print \"Fitting is done.\"\n",
    "\n",
    "# print all the outcomes of interest\n",
    "get_outcomes(clf)\n",
    "\n",
    "my_features_list = features_list\n",
    "\n",
    "dump_classifier_and_data(clf, my_dataset, features_list)\n"
   ]
  },
  {
   "cell_type": "markdown",
   "metadata": {},
   "source": [
    "Its result is not good, either. The value of recall never goes beyond 0.3 for different paramter settings. Its maximum value is 0.1429. Below is the best result:\n",
    "\n",
    "\n",
    "Training starts at:  2016-08-14 09:24:21\n",
    "Training ends at:  2016-08-14 15:19:49\n",
    "Fitting is done.\n",
    "Best parameters from the grid search:  {'pca__n_components': 3, 'clf__criterion': 'gini', 'clf__max_depth': 8, 'clf__n_estimators': 500, 'clf__min_samples_split': 1}\n",
    "\n",
    "Best Estimator Accuracy: 0.793103448276\n",
    "\n",
    "\n",
    "Recall Score: 0.142857142857\n",
    "\n",
    "\n",
    "Precision Score: 1.0\n"
   ]
  },
  {
   "cell_type": "markdown",
   "metadata": {},
   "source": [
    "## Task 8.3: PCA + DecisionTree + Pipeline + GridSearchCV"
   ]
  },
  {
   "cell_type": "code",
   "execution_count": 31,
   "metadata": {
    "collapsed": false
   },
   "outputs": [
    {
     "ename": "TypeError",
     "evalue": "'Pipeline' object is not callable",
     "output_type": "error",
     "traceback": [
      "\u001b[1;31m---------------------------------------------------------------------------\u001b[0m",
      "\u001b[1;31mTypeError\u001b[0m                                 Traceback (most recent call last)",
      "\u001b[1;32m<ipython-input-31-95417da137b5>\u001b[0m in \u001b[0;36m<module>\u001b[1;34m()\u001b[0m\n\u001b[0;32m     11\u001b[0m Pipeline = Pipeline([\n\u001b[0;32m     12\u001b[0m         \u001b[1;33m(\u001b[0m\u001b[1;34m'pca'\u001b[0m\u001b[1;33m,\u001b[0m \u001b[0mRandomizedPCA\u001b[0m\u001b[1;33m(\u001b[0m\u001b[1;33m)\u001b[0m\u001b[1;33m)\u001b[0m\u001b[1;33m,\u001b[0m\u001b[1;33m\u001b[0m\u001b[0m\n\u001b[1;32m---> 13\u001b[1;33m         \u001b[1;33m(\u001b[0m\u001b[1;34m'clf'\u001b[0m\u001b[1;33m,\u001b[0m \u001b[0mDecisionTreeClassifier\u001b[0m\u001b[1;33m(\u001b[0m\u001b[0mrandom_state\u001b[0m \u001b[1;33m=\u001b[0m \u001b[1;36m42\u001b[0m\u001b[1;33m)\u001b[0m\u001b[1;33m)\u001b[0m\u001b[1;33m\u001b[0m\u001b[0m\n\u001b[0m\u001b[0;32m     14\u001b[0m     ])\n\u001b[0;32m     15\u001b[0m \u001b[1;33m\u001b[0m\u001b[0m\n",
      "\u001b[1;31mTypeError\u001b[0m: 'Pipeline' object is not callable"
     ]
    }
   ],
   "source": [
    "\n",
    "#print data\n",
    "labels, features = targetFeatureSplit(data)\n",
    "\n",
    "#print labels\n",
    "features_train, features_test, labels_train, labels_test = train_test_split(features, labels, test_size=0.3, random_state=42)\n",
    "\n",
    "           \n",
    "sss = StratifiedShuffleSplit(labels_train, n_iter=1000, test_size=0.1, random_state=42)                       \n",
    "\n",
    "Pipeline = Pipeline([\n",
    "        ('pca', RandomizedPCA()),\n",
    "        ('clf', DecisionTreeClassifier(random_state = 42))\n",
    "    ])\n",
    "\n",
    "\n",
    "x = [3]\n",
    "#d = ['rbf', 'linear', 'poly', 'sigmoid']\n",
    "\n",
    "d = ['entropy', 'gini']\n",
    "#n = [10]\n",
    "s = [1]\n",
    "#s = [10]\n",
    "m = [7, 8, 9]\n",
    "#m = [2]\n",
    "\n",
    "param_grid = {'pca__n_components': x,\n",
    "              'clf__min_samples_split': s,\n",
    "              'clf__max_depth': m,\n",
    "              'clf__criterion': d}\n",
    "\n",
    "\n",
    "clf = GridSearchCV(estimator = Pipeline, \n",
    "                             param_grid = param_grid,\n",
    "                             scoring = score,\n",
    "                             cv = sss)\n",
    "\n",
    "import time\n",
    "t0 = time.time()\n",
    "print \"Training starts at: \", time.strftime('%Y-%m-%d %H:%M:%S', time.localtime(t0))\n",
    "clf.fit(features_train, labels_train)\n",
    "t1 = time.time()\n",
    "print \"Training ends at: \", time.strftime('%Y-%m-%d %H:%M:%S', time.localtime(t1))\n",
    "print \"Training time is \", time.strftime('%M:%S', time.localtime(t1-t0))\n",
    "print \"Fitting is done.\"\n",
    "\n",
    "# print all the outcomes of interest\n",
    "get_outcomes(clf)\n",
    "\n",
    "my_features_list = features_list\n",
    "\n",
    "dump_classifier_and_data(clf, my_dataset, features_list)\n"
   ]
  },
  {
   "cell_type": "markdown",
   "metadata": {},
   "source": [
    "Its result is not good, either. The value of recall never goes beyond 0.3 for different paramter settings. Its maximum value is 0.1429. Below is the best result:\n",
    "\n",
    "\n",
    "Training starts at:  2016-08-14 18:59:47\n",
    "Training ends at:  2016-08-14 19:00:23\n",
    "Training time is  00:35\n",
    "Fitting is done.\n",
    "Best parameters from the grid search:  {'clf__criterion': 'gini', 'clf__max_depth': 8, 'pca__n_components': 3, 'clf__min_samples_split': 1}\n",
    "\n",
    "Best Estimator Accuracy: 0.724137931034\n",
    "\n",
    "\n",
    "Recall Score: 0.142857142857\n",
    "\n",
    "\n",
    "Precision Score: 0.333333333333"
   ]
  },
  {
   "cell_type": "markdown",
   "metadata": {},
   "source": [
    "## Task 8.4: Manually Select Features + RandomForest + GridSearchCV"
   ]
  },
  {
   "cell_type": "markdown",
   "metadata": {},
   "source": [
    "Since using Pipeline + PCA, I am not able to get the good result. Then I decide to manually select features. So in the following code, two different features are selected from the feature lists each time. I am trying to find out which two features have the best and qualified result. The reason I choose two features each time is for reducing the calculation time."
   ]
  },
  {
   "cell_type": "code",
   "execution_count": null,
   "metadata": {
    "collapsed": true
   },
   "outputs": [],
   "source": [
    "total_features_list = ['bonus', 'deferral_payments', 'director_fees', 'exercised_stock_options', \\\n",
    "                 'expenses', 'loan_advances', 'long_term_incentive', 'other', 'restricted_stock', \\\n",
    "                 'salary']\n",
    "\n",
    "features_list = ['poi']\n",
    "\n",
    "f = open(\"poi_id_randomforest_loopfeatures_result.txt\", 'w')\n",
    "\n",
    "i = total_features_list[0]\n",
    "while (len(total_features_list) > 1):\n",
    "    features_list = ['poi']\n",
    "    features_list.append(i)\n",
    "    total_features_list.remove(i)\n",
    "    i = total_features_list[0]\n",
    "    for j in total_features_list:\n",
    "        features_list.append(j)\n",
    "        print features_list\n",
    "        f.write(str(features_list) + \"\\n\")\n",
    "        \n",
    "        data = featureFormat(my_dataset, features_list, remove_all_zeroes=False, sort_keys = True)\n",
    "\n",
    "#print data\n",
    "        labels, features = targetFeatureSplit(data)\n",
    "\n",
    "#print labels\n",
    "        features_train, features_test, labels_train, labels_test = train_test_split(features, labels, test_size=0.3, random_state=42)\n",
    "\n",
    "\n",
    "# RandomForest\n",
    "        ran = RandomForestClassifier()\n",
    "        parameters = {\"n_estimators\" : [1, 2, 3, 4],\n",
    "              \"min_samples_split\" : [5, 10, 15],\n",
    "              \"max_depth\": [2, 3, 4, 5],\n",
    "              \"criterion\" : ['entropy', 'gini']}\n",
    "            \n",
    "        sss = StratifiedShuffleSplit(labels_train, n_iter=1000, test_size=0.1, random_state=42)                       \n",
    "        clf = GridSearchCV(ran,\n",
    "                   param_grid = parameters,\n",
    "                   scoring = score,\n",
    "                   cv = sss) \n",
    "\n",
    "        t0 = time.time()\n",
    "        t0_value = time.strftime('%Y-%m-%d %H:%M:%S', time.localtime(t0))\n",
    "        print \"Training starts at: \", t0_value\n",
    "        f.write(\"Training starts at: \" + str(t0_value) + \"\\n\")\n",
    "        clf.fit(features_train, labels_train)\n",
    "        t1 = time.time()\n",
    "        t1_value = time.strftime('%Y-%m-%d %H:%M:%S', time.localtime(t1))\n",
    "        f.write(\"Training ends at: \" + str(t1_value) + \"\\n\")\n",
    "        print \"Training ends at: \", t1_value\n",
    "\n",
    "# print all the outcomes of interest\n",
    "        get_outcomes2(clf, f)\n",
    "\n",
    "        features_list.remove(j)\n",
    "\n",
    "f.close()\n"
   ]
  },
  {
   "cell_type": "markdown",
   "metadata": {},
   "source": [
    "However the result is not good. The best result is:\n",
    "\n",
    "['poi', 'loan_advances', 'restricted_stock']\n",
    "Training starts at: 2016-10-04 05:10:20\n",
    "Training ends at: 2016-10-04 05:21:11\n",
    "Best parameters from the grid search: {'min_samples_split': 5, 'n_estimators': 1, 'criterion': 'entropy', 'max_depth': 5}\n",
    "\n",
    "Best Estimator Accuracy: 0.689655172414\n",
    "\n",
    "\n",
    "Recall Score: 0.285714285714\n",
    "\n",
    "\n",
    "Recall Score: 0.285714285714\n"
   ]
  },
  {
   "cell_type": "markdown",
   "metadata": {},
   "source": [
    "## Task 8.5: Manually Select Features + DecisionTree + GridSearchCV"
   ]
  },
  {
   "cell_type": "markdown",
   "metadata": {},
   "source": [
    "In this solution, two different features are selected from the feature lists each time. And RandomForestClassifier is run. GridSearchCV() is used to get the best result."
   ]
  },
  {
   "cell_type": "code",
   "execution_count": null,
   "metadata": {
    "collapsed": true
   },
   "outputs": [],
   "source": [
    "total_features_list = ['bonus', 'deferral_payments', 'director_fees', 'exercised_stock_options', \\\n",
    "                 'expenses', 'loan_advances', 'long_term_incentive', 'other', 'restricted_stock', \\\n",
    "                 'salary']\n",
    "\n",
    "features_list = ['poi']\n",
    "\n",
    "f = open(\"poi_id_dt_loopfeatures_result.txt\", 'w')\n",
    "\n",
    "i = total_features_list[0]\n",
    "while (len(total_features_list) > 1):\n",
    "    features_list = ['poi']\n",
    "    features_list.append(i)\n",
    "    total_features_list.remove(i)\n",
    "    i = total_features_list[0]\n",
    "    for j in total_features_list:\n",
    "        features_list.append(j)\n",
    "        print features_list\n",
    "        f.write(str(features_list) + \"\\n\")\n",
    "                 \n",
    "        data = featureFormat(my_dataset, features_list, remove_all_zeroes=False, sort_keys = True)\n",
    "\n",
    "#print data\n",
    "        labels, features = targetFeatureSplit(data)\n",
    "\n",
    "#print labels\n",
    "        features_train, features_test, labels_train, labels_test = train_test_split(features, labels, test_size=0.3, random_state=42)\n",
    "\n",
    "\n",
    "# Decision Tree\n",
    "        dtc = DecisionTreeClassifier(random_state = 42)\n",
    "        parameters = {\"criterion\" : [\"gini\", \"entropy\"],\n",
    "                      \"splitter\" :   [\"best\", \"random\"]}  \n",
    "            \n",
    "        sss = StratifiedShuffleSplit(labels_train, n_iter=1000, test_size=0.1, random_state=42)                       \n",
    "        clf = GridSearchCV(dtc,\n",
    "                   param_grid = parameters,\n",
    "                   scoring = score,\n",
    "                   cv = sss) \n",
    "\n",
    "\n",
    "        t0 = time.time()\n",
    "        t0_value = time.strftime('%Y-%m-%d %H:%M:%S', time.localtime(t0))\n",
    "        print \"Training starts at: \", t0_value\n",
    "        f.write(\"Training starts at: \" + str(t0_value) + \"\\n\")\n",
    "        clf.fit(features_train, labels_train)\n",
    "        t1 = time.time()\n",
    "        t1_value = time.strftime('%Y-%m-%d %H:%M:%S', time.localtime(t1))\n",
    "        f.write(\"Training ends at: \" + str(t1_value) + \"\\n\")\n",
    "        print \"Training ends at: \", t1_value\n",
    "\n",
    "# print all the outcomes of interest\n",
    "        get_outcomes2(clf, f)\n",
    "\n",
    "        features_list.remove(j)\n",
    "\n",
    "f.close()\n"
   ]
  },
  {
   "cell_type": "markdown",
   "metadata": {},
   "source": [
    "With this solution, I get some good results:\n",
    "    \n",
    "['poi', 'exercised_stock_options', 'salary']\n",
    "Training starts at: 2016-10-03 22:10:59\n",
    "Training ends at: 2016-10-03 22:11:10\n",
    "Best parameters from the grid search: {'splitter': 'best', 'criterion': 'entropy'}\n",
    "\n",
    "Best Estimator Accuracy: 0.758620689655\n",
    "\n",
    "\n",
    "Recall Score: 0.428571428571\n",
    "\n",
    "\n",
    "Recall Score: 0.42857142857    \n",
    "    \n",
    "    \n",
    "    \n",
    "['poi', 'expenses', 'salary']\n",
    "Training starts at: 2016-10-03 22:11:49\n",
    "Training ends at: 2016-10-03 22:11:59\n",
    "Best parameters from the grid search: {'splitter': 'random', 'criterion': 'gini'}\n",
    "\n",
    "Best Estimator Accuracy: 0.724137931034\n",
    "\n",
    "\n",
    "Recall Score: 0.428571428571\n",
    "\n",
    "\n",
    "Recall Score: 0.42857142857    \n",
    "    "
   ]
  }
 ],
 "metadata": {
  "kernelspec": {
   "display_name": "Python 2",
   "language": "python",
   "name": "python2"
  },
  "language_info": {
   "codemirror_mode": {
    "name": "ipython",
    "version": 2
   },
   "file_extension": ".py",
   "mimetype": "text/x-python",
   "name": "python",
   "nbconvert_exporter": "python",
   "pygments_lexer": "ipython2",
   "version": "2.7.11"
  }
 },
 "nbformat": 4,
 "nbformat_minor": 0
}
